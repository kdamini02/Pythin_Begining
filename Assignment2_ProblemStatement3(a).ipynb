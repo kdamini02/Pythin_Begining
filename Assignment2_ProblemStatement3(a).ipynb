{
  "nbformat": 4,
  "nbformat_minor": 0,
  "metadata": {
    "colab": {
      "provenance": [],
      "authorship_tag": "ABX9TyND0ThJWmXMKXYYSMCj37Ea",
      "include_colab_link": true
    },
    "kernelspec": {
      "name": "python3",
      "display_name": "Python 3"
    },
    "language_info": {
      "name": "python"
    }
  },
  "cells": [
    {
      "cell_type": "markdown",
      "metadata": {
        "id": "view-in-github",
        "colab_type": "text"
      },
      "source": [
        "<a href=\"https://colab.research.google.com/github/kdamini02/Python_Begining/blob/main/Assignment2_ProblemStatement3(a).ipynb\" target=\"_parent\"><img src=\"https://colab.research.google.com/assets/colab-badge.svg\" alt=\"Open In Colab\"/></a>"
      ]
    },
    {
      "cell_type": "code",
      "execution_count": 1,
      "metadata": {
        "colab": {
          "base_uri": "https://localhost:8080/"
        },
        "id": "vRhveN6PkhVi",
        "outputId": "65a24c9b-8869-4405-85ec-5849633f8c6f"
      },
      "outputs": [
        {
          "output_type": "stream",
          "name": "stdout",
          "text": [
            "[1, 2, 3, 5, 1, 2, 1]\n"
          ]
        }
      ],
      "source": [
        "numbers_nested = [[1, -1, 2], [0, -5, 3, 5, -2], [1, 2, 1, 0, -2, -3]]\n",
        "positive_numbers = []\n",
        "for nested_list in numbers_nested:\n",
        "    for num in nested_list:\n",
        "        if num > 0:\n",
        "            positive_numbers.append(num)\n",
        "print(positive_numbers)"
      ]
    },
    {
      "cell_type": "code",
      "source": [],
      "metadata": {
        "id": "u2NQGPNzkvbv"
      },
      "execution_count": null,
      "outputs": []
    }
  ]
}