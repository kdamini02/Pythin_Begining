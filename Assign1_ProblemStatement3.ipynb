{
  "nbformat": 4,
  "nbformat_minor": 0,
  "metadata": {
    "colab": {
      "provenance": [],
      "authorship_tag": "ABX9TyMDHIV188fb4oh0yL1ZqaE5",
      "include_colab_link": true
    },
    "kernelspec": {
      "name": "python3",
      "display_name": "Python 3"
    },
    "language_info": {
      "name": "python"
    }
  },
  "cells": [
    {
      "cell_type": "markdown",
      "metadata": {
        "id": "view-in-github",
        "colab_type": "text"
      },
      "source": [
        "<a href=\"https://colab.research.google.com/github/kdamini02/Pythin_Begining/blob/main/Untitled4.ipynb\" target=\"_parent\"><img src=\"https://colab.research.google.com/assets/colab-badge.svg\" alt=\"Open In Colab\"/></a>"
      ]
    },
    {
      "cell_type": "code",
      "execution_count": null,
      "metadata": {
        "id": "RQGQqjSoaGlg"
      },
      "outputs": [],
      "source": [
        "num_calls = int(input(\"Enter the number of calls: \"))\n",
        "if num_calls <= 100:\n",
        "    bill = 200\n",
        "elif num_calls <= 150:\n",
        "    bill = 200 + (num_calls-100)*0.60\n",
        "elif num_calls <= 200:\n",
        "    bill = 200 + 50 * 0.60 + (num_calls-150)*0.50\n",
        "else:\n",
        "    bill = 200 + 50 * 0.60 + 50 * 0.50 + (num_calls-200)*0.40\n",
        "print(\"Monthly Telephone Bill: Rs.\", bill)\n"
      ]
    },
    {
      "cell_type": "code",
      "source": [],
      "metadata": {
        "id": "VN8P5r05aRSV"
      },
      "execution_count": null,
      "outputs": []
    }
  ]
}
