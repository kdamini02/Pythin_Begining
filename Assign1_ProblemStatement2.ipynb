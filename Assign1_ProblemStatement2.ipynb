{
  "nbformat": 4,
  "nbformat_minor": 0,
  "metadata": {
    "colab": {
      "provenance": [],
      "authorship_tag": "ABX9TyNtmq1Fho62DFzZr89O1kZ/",
      "include_colab_link": true
    },
    "kernelspec": {
      "name": "python3",
      "display_name": "Python 3"
    },
    "language_info": {
      "name": "python"
    }
  },
  "cells": [
    {
      "cell_type": "markdown",
      "metadata": {
        "id": "view-in-github",
        "colab_type": "text"
      },
      "source": [
        "<a href=\"https://colab.research.google.com/github/kdamini02/Pythin_Begining/blob/main/Problem_Statement2.ipynb\" target=\"_parent\"><img src=\"https://colab.research.google.com/assets/colab-badge.svg\" alt=\"Open In Colab\"/></a>"
      ]
    },
    {
      "cell_type": "code",
      "execution_count": null,
      "metadata": {
        "id": "TRSeVAgG_AY8"
      },
      "outputs": [],
      "source": []
    },
    {
      "cell_type": "code",
      "source": [
        "Bal = 0\n",
        "D = input(\"Enter the Deposit Amount:\")\n",
        "W = input(\"Enter the withdrawl Amount:\")\n",
        "\n",
        "for e in D:\n",
        "  for f in W:\n",
        "    if int(e)> int(Bal):\n",
        "     Totalamt= int(Bal) + int(D)\n",
        "     Bal +=1 \n",
        "    elif int(f) < int(Bal):\n",
        "     CurrBal= int(Bal) - int(W)\n",
        "    else:\n",
        "     print(\"\")\n",
        "\n",
        "console_input= int(D)- int(W)\n",
        "print(\"log_message:\", f\"D: {D} \", ',',f\"W: {W}\", end=\"\\t\")\n",
        "print(f\"output: {console_input}\") "
      ],
      "metadata": {
        "colab": {
          "base_uri": "https://localhost:8080/"
        },
        "id": "l_D7udVT_F9-",
        "outputId": "8bf13c35-6369-4a39-babf-d8d3bdaf7f21"
      },
      "execution_count": 3,
      "outputs": [
        {
          "output_type": "stream",
          "name": "stdout",
          "text": [
            "Enter the Deposit Amount:5999\n",
            "Enter the withdrawl Amount:5000\n",
            "log_message: D: 5999  , W: 5000\toutput: 999\n"
          ]
        }
      ]
    },
    {
      "cell_type": "code",
      "source": [
        "\n"
      ],
      "metadata": {
        "id": "eIfUjMTxTRjE"
      },
      "execution_count": null,
      "outputs": []
    }
  ]
}
