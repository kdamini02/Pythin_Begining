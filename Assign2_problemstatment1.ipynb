{
  "nbformat": 4,
  "nbformat_minor": 0,
  "metadata": {
    "colab": {
      "provenance": [],
      "authorship_tag": "ABX9TyOVKsGBbarJvwyJveMNe9i4",
      "include_colab_link": true
    },
    "kernelspec": {
      "name": "python3",
      "display_name": "Python 3"
    },
    "language_info": {
      "name": "python"
    }
  },
  "cells": [
    {
      "cell_type": "markdown",
      "metadata": {
        "id": "view-in-github",
        "colab_type": "text"
      },
      "source": [
        "<a href=\"https://colab.research.google.com/github/kdamini02/Pythin_Begining/blob/main/Assign1_problemstatment1.ipynb\" target=\"_parent\"><img src=\"https://colab.research.google.com/assets/colab-badge.svg\" alt=\"Open In Colab\"/></a>"
      ]
    },
    {
      "cell_type": "code",
      "execution_count": 1,
      "metadata": {
        "colab": {
          "base_uri": "https://localhost:8080/"
        },
        "id": "HXGOo2Jcb9BK",
        "outputId": "99f2a7b8-1e33-4d72-efaa-f259da9695f1"
      },
      "outputs": [
        {
          "output_type": "stream",
          "name": "stdout",
          "text": [
            "['phone.jpg', 'views.jpg', 'bear.jpg']\n"
          ]
        }
      ],
      "source": [
        "filenames=['views.jpg','bear.jpg','ball.png']\n",
        "filenames.insert(0,'phone.jpg')\n",
        "del filenames[3]\n",
        "print(filenames)"
      ]
    },
    {
      "cell_type": "code",
      "source": [],
      "metadata": {
        "id": "c-1r_iXab-ng"
      },
      "execution_count": null,
      "outputs": []
    }
  ]
}
