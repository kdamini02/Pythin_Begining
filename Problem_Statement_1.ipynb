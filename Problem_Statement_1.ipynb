{
  "nbformat": 4,
  "nbformat_minor": 0,
  "metadata": {
    "colab": {
      "provenance": [],
      "authorship_tag": "ABX9TyP9ExUZBAUXMIIPeqS2uB1E",
      "include_colab_link": true
    },
    "kernelspec": {
      "name": "python3",
      "display_name": "Python 3"
    },
    "language_info": {
      "name": "python"
    }
  },
  "cells": [
    {
      "cell_type": "markdown",
      "metadata": {
        "id": "view-in-github",
        "colab_type": "text"
      },
      "source": [
        "<a href=\"https://colab.research.google.com/github/kdamini02/Pythin_Begining/blob/main/Problem_Statement_1.ipynb\" target=\"_parent\"><img src=\"https://colab.research.google.com/assets/colab-badge.svg\" alt=\"Open In Colab\"/></a>"
      ]
    },
    {
      "cell_type": "code",
      "execution_count": null,
      "metadata": {
        "id": "_hARyutztAB0"
      },
      "outputs": [],
      "source": []
    },
    {
      "cell_type": "code",
      "source": [
        "x= int(input (\"Enter a number:\"))\n",
        "if x % 3 and x % 5 == 0:\n",
        "    print(\"Fizz buzz\")\n",
        "elif x %5 == 0:\n",
        "    print(\"Fuzz\")\n",
        "elif x %3 == 0:\n",
        "    print(\"Fizz\")\n",
        "else:\n",
        "    print(x)"
      ],
      "metadata": {
        "colab": {
          "base_uri": "https://localhost:8080/"
        },
        "id": "_wSNSMO3vjJy",
        "outputId": "8c00f877-815a-47db-f34f-af8bc0e66ad3"
      },
      "execution_count": 5,
      "outputs": [
        {
          "output_type": "stream",
          "name": "stdout",
          "text": [
            "Enter a number:5\n",
            "Fizz buzz\n"
          ]
        }
      ]
    },
    {
      "cell_type": "code",
      "source": [],
      "metadata": {
        "id": "-tBZayO4vYRF"
      },
      "execution_count": null,
      "outputs": []
    },
    {
      "cell_type": "code",
      "source": [],
      "metadata": {
        "id": "PAn7ff3vvaQN"
      },
      "execution_count": null,
      "outputs": []
    }
  ]
}