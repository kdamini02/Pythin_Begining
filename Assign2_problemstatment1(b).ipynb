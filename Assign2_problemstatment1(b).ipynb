{
  "nbformat": 4,
  "nbformat_minor": 0,
  "metadata": {
    "colab": {
      "provenance": [],
      "authorship_tag": "ABX9TyMkFYHFCWK7F0A4lQ8Guu0y",
      "include_colab_link": true
    },
    "kernelspec": {
      "name": "python3",
      "display_name": "Python 3"
    },
    "language_info": {
      "name": "python"
    }
  },
  "cells": [
    {
      "cell_type": "markdown",
      "metadata": {
        "id": "view-in-github",
        "colab_type": "text"
      },
      "source": [
        "<a href=\"https://colab.research.google.com/github/kdamini02/Pythin_Begining/blob/main/Assign2_problemstatment2.ipynb\" target=\"_parent\"><img src=\"https://colab.research.google.com/assets/colab-badge.svg\" alt=\"Open In Colab\"/></a>"
      ]
    },
    {
      "cell_type": "code",
      "execution_count": null,
      "metadata": {
        "id": "HXGOo2Jcb9BK"
      },
      "outputs": [],
      "source": [
        "def check_number_existence(lst, number):\n",
        "    for item in lst:\n",
        "        if isinstance(item, list):\n",
        "            if check_number_existence(item, number):\n",
        "                return True\n",
        "        elif item == number:\n",
        "            return True\n",
        "    return False\n",
        "L = [1, 2, 3, 4, [3, 4]]\n",
        "\n",
        "number = int(input(\"Enter a number to check: \"))\n",
        "\n",
        "exists = check_number_existence(L, number)\n",
        "\n",
        "if exists:\n",
        "    print(f\"The number {number} exists in the inner list.\")\n",
        "else:\n",
        "    print(f\"The number {number} does not exist in the inner list.\")"
      ]
    },
    {
      "cell_type": "code",
      "source": [],
      "metadata": {
        "id": "c-1r_iXab-ng"
      },
      "execution_count": 10,
      "outputs": []
    },
    {
      "cell_type": "code",
      "source": [],
      "metadata": {
        "id": "bOVoGiFReEho"
      },
      "execution_count": null,
      "outputs": []
    }
  ]
}
