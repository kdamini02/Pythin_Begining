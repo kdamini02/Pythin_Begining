{
  "nbformat": 4,
  "nbformat_minor": 0,
  "metadata": {
    "colab": {
      "provenance": [],
      "authorship_tag": "ABX9TyPaY1XEXW84MzfoTAN1qQnz",
      "include_colab_link": true
    },
    "kernelspec": {
      "name": "python3",
      "display_name": "Python 3"
    },
    "language_info": {
      "name": "python"
    }
  },
  "cells": [
    {
      "cell_type": "markdown",
      "metadata": {
        "id": "view-in-github",
        "colab_type": "text"
      },
      "source": [
        "<a href=\"https://colab.research.google.com/github/kdamini02/Python_Begining/blob/main/Assignment2_ProblemStatement3(b).ipynb\" target=\"_parent\"><img src=\"https://colab.research.google.com/assets/colab-badge.svg\" alt=\"Open In Colab\"/></a>"
      ]
    },
    {
      "cell_type": "code",
      "execution_count": 2,
      "metadata": {
        "colab": {
          "base_uri": "https://localhost:8080/"
        },
        "id": "vRhveN6PkhVi",
        "outputId": "cfa7559e-d2ce-4842-8465-0699400d1e7f"
      },
      "outputs": [
        {
          "output_type": "stream",
          "name": "stdout",
          "text": [
            "6.5\n"
          ]
        }
      ],
      "source": [
        "L = [[1, 2, 3], [4, 5, 6, 3], [-1, -2, -10, 5, 8]]\n",
        "sum_of_averages = 0\n",
        "for inner_list in L:\n",
        "    average = sum(inner_list) / len(inner_list)\n",
        "    sum_of_averages += average\n",
        "print(sum_of_averages)"
      ]
    },
    {
      "cell_type": "code",
      "source": [],
      "metadata": {
        "id": "u2NQGPNzkvbv"
      },
      "execution_count": null,
      "outputs": []
    }
  ]
}