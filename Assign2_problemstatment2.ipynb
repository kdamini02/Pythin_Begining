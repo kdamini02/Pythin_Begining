{
  "nbformat": 4,
  "nbformat_minor": 0,
  "metadata": {
    "colab": {
      "provenance": [],
      "authorship_tag": "ABX9TyNV74n5GKtAWa+cw4euVz7u",
      "include_colab_link": true
    },
    "kernelspec": {
      "name": "python3",
      "display_name": "Python 3"
    },
    "language_info": {
      "name": "python"
    }
  },
  "cells": [
    {
      "cell_type": "markdown",
      "metadata": {
        "id": "view-in-github",
        "colab_type": "text"
      },
      "source": [
        "<a href=\"https://colab.research.google.com/github/kdamini02/Pythin_Begining/blob/main/Assign2_problemstatment2.ipynb\" target=\"_parent\"><img src=\"https://colab.research.google.com/assets/colab-badge.svg\" alt=\"Open In Colab\"/></a>"
      ]
    },
    {
      "cell_type": "code",
      "execution_count": 11,
      "metadata": {
        "colab": {
          "base_uri": "https://localhost:8080/"
        },
        "id": "HXGOo2Jcb9BK",
        "outputId": "07118f99-388b-470d-c351-2b7cc1132a71"
      },
      "outputs": [
        {
          "output_type": "stream",
          "name": "stdout",
          "text": [
            "Unique elements: [1, 2, 3, 4, 5]\n"
          ]
        }
      ],
      "source": [
        "def find_unique_elements(lst):\n",
        "    unique_list = []\n",
        "    for num in lst:\n",
        "        if num not in unique_list:\n",
        "            unique_list.append(num)\n",
        "    return unique_list\n",
        "L = [1, 1, 1, 1, 2, 2, 3, 3, 3, 3, 4, 5]\n",
        "unique_elements = find_unique_elements(L)\n",
        "print(\"Unique elements:\", unique_elements)\n"
      ]
    },
    {
      "cell_type": "code",
      "source": [],
      "metadata": {
        "id": "c-1r_iXab-ng"
      },
      "execution_count": 10,
      "outputs": []
    },
    {
      "cell_type": "code",
      "source": [],
      "metadata": {
        "id": "bOVoGiFReEho"
      },
      "execution_count": null,
      "outputs": []
    }
  ]
}