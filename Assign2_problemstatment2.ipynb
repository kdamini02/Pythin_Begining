{
  "nbformat": 4,
  "nbformat_minor": 0,
  "metadata": {
    "colab": {
      "provenance": [],
      "authorship_tag": "ABX9TyNAciGZv+Cf6wDBMkqqCco2",
      "include_colab_link": true
    },
    "kernelspec": {
      "name": "python3",
      "display_name": "Python 3"
    },
    "language_info": {
      "name": "python"
    }
  },
  "cells": [
    {
      "cell_type": "markdown",
      "metadata": {
        "id": "view-in-github",
        "colab_type": "text"
      },
      "source": [
        "<a href=\"https://colab.research.google.com/github/kdamini02/Pythin_Begining/blob/main/Assign2_problemstatment2.ipynb\" target=\"_parent\"><img src=\"https://colab.research.google.com/assets/colab-badge.svg\" alt=\"Open In Colab\"/></a>"
      ]
    },
    {
      "cell_type": "code",
      "execution_count": 9,
      "metadata": {
        "colab": {
          "base_uri": "https://localhost:8080/"
        },
        "id": "HXGOo2Jcb9BK",
        "outputId": "0ff93e96-09d7-4744-8f66-259aaf676e49"
      },
      "outputs": [
        {
          "output_type": "stream",
          "name": "stdout",
          "text": [
            "Minimum value: 1\n",
            "Maximum value: 10\n",
            "Average: 5.5\n"
          ]
        }
      ],
      "source": [
        "L = [1, 2, 3, 4, 5, 6, 7, 8, 9, 10]\n",
        "min_val, max_val, avg = find_max_min_avg(L)\n",
        "\n",
        "print(\"Minimum value:\", min_val)\n",
        "print(\"Maximum value:\", max_val)\n",
        "print(\"Average:\", avg)"
      ]
    },
    {
      "cell_type": "code",
      "source": [],
      "metadata": {
        "id": "c-1r_iXab-ng"
      },
      "execution_count": 10,
      "outputs": []
    },
    {
      "cell_type": "code",
      "source": [],
      "metadata": {
        "id": "bOVoGiFReEho"
      },
      "execution_count": null,
      "outputs": []
    }
  ]
}