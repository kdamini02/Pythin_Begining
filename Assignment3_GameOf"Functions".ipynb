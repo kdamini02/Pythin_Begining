{
  "nbformat": 4,
  "nbformat_minor": 0,
  "metadata": {
    "colab": {
      "provenance": [],
      "authorship_tag": "ABX9TyN3tlO9Mtvx4RIcHUgSQCri",
      "include_colab_link": true
    },
    "kernelspec": {
      "name": "python3",
      "display_name": "Python 3"
    },
    "language_info": {
      "name": "python"
    }
  },
  "cells": [
    {
      "cell_type": "markdown",
      "metadata": {
        "id": "view-in-github",
        "colab_type": "text"
      },
      "source": [
        "<a href=\"https://colab.research.google.com/github/kdamini02/Python_Begining/blob/main/Assignment3_GameOf%22Functions%22.ipynb\" target=\"_parent\"><img src=\"https://colab.research.google.com/assets/colab-badge.svg\" alt=\"Open In Colab\"/></a>"
      ]
    },
    {
      "cell_type": "code",
      "execution_count": 1,
      "metadata": {
        "colab": {
          "base_uri": "https://localhost:8080/"
        },
        "id": "tvg4OBOZUyrf",
        "outputId": "62d640fb-1ca5-4eb8-a4e6-71d27f47fa70"
      },
      "outputs": [
        {
          "output_type": "stream",
          "name": "stdout",
          "text": [
            "Sum of the numbers in the list: 20\n"
          ]
        }
      ],
      "source": [
        "def sum_list(numbers):\n",
        "    total = 0\n",
        "    for num in numbers:\n",
        "        total += num\n",
        "    return total\n",
        "\n",
        "# Test the function\n",
        "sample_list = [8, 2, 3, 0, 7]\n",
        "result = sum_list(sample_list)\n",
        "print(\"Sum of the numbers in the list:\", result)\n"
      ]
    },
    {
      "cell_type": "code",
      "source": [],
      "metadata": {
        "id": "J5mi7UAqVDrw"
      },
      "execution_count": null,
      "outputs": []
    }
  ]
}